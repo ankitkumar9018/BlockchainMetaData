{
  "nbformat": 4,
  "nbformat_minor": 0,
  "metadata": {
    "colab": {
      "name": "JsonGenerator-Main.ipynb",
      "provenance": [],
      "collapsed_sections": [],
      "include_colab_link": true
    },
    "kernelspec": {
      "name": "python3",
      "display_name": "Python 3"
    },
    "language_info": {
      "name": "python"
    }
  },
  "cells": [
    {
      "cell_type": "markdown",
      "metadata": {
        "id": "view-in-github",
        "colab_type": "text"
      },
      "source": [
        "<a href=\"https://colab.research.google.com/github/ankitkumar9018/BlockchainMetaData/blob/main/JsonGenerator_Main.ipynb\" target=\"_parent\"><img src=\"https://colab.research.google.com/assets/colab-badge.svg\" alt=\"Open In Colab\"/></a>"
      ]
    },
    {
      "cell_type": "markdown",
      "source": [
        "# FANZONE JSON Generator Script\n",
        "\n",
        "On 29.04.2022 we reveal the first batch of token ID 1-50 for the top user and the bought mints token id 105-17X\n",
        "\n",
        "\n",
        "Input: \n",
        "- Lables and Amount\n",
        "- Ranges and Shuffle-Seeds\n",
        "\n",
        "Output:\n",
        "- Array with the shuffled and partially-reshuffled lables\n",
        "- printed array to file with line break after each element\n",
        "\n"
      ],
      "metadata": {
        "id": "Y1yg5Pk5wTbC"
      }
    },
    {
      "cell_type": "markdown",
      "source": [
        ""
      ],
      "metadata": {
        "id": "rxB9Au6DCoPo"
      }
    },
    {
      "cell_type": "markdown",
      "source": [
        "### Importing libraries"
      ],
      "metadata": {
        "id": "4gDTjA7KeDBl"
      }
    },
    {
      "cell_type": "code",
      "source": [
        "import numpy as np\n",
        "from pathlib import Path\n",
        "import json"
      ],
      "metadata": {
        "id": "2Cp4q-oZCP35"
      },
      "execution_count": 1,
      "outputs": []
    },
    {
      "cell_type": "markdown",
      "source": [
        "### Connecting google drive"
      ],
      "metadata": {
        "id": "kXUQ-eeoeTAJ"
      }
    },
    {
      "cell_type": "code",
      "source": [
        "from google.colab import drive\n",
        "drive.mount('/content/drive')"
      ],
      "metadata": {
        "id": "iHmls4pAVSOA",
        "colab": {
          "base_uri": "https://localhost:8080/"
        },
        "outputId": "7d038ccb-b05a-40aa-9e86-87dfc81d1469"
      },
      "execution_count": 3,
      "outputs": [
        {
          "output_type": "stream",
          "name": "stdout",
          "text": [
            "Mounted at /content/drive\n"
          ]
        }
      ]
    },
    {
      "cell_type": "markdown",
      "source": [
        "### Declaring dictionary for ipfs"
      ],
      "metadata": {
        "id": "z0sm7KileU39"
      }
    },
    {
      "cell_type": "code",
      "source": [
        "linksDict = {}\n",
        "linksDict['Diamond'] = {}\n",
        "linksDict['Black'] = {}\n",
        "linksDict['Gold'] = {}\n",
        "linksDict['Default'] = {}\n",
        "linksDict['Default']['image'] = \"ipfs://QmStQYA5jJkDnQ46mM99wrmq9FYuJibU6GnG49qPuqXBEQ\"\n",
        "linksDict['Default']['video'] = \"ipfs://QmbSTe2Cdj41seYdAbdnEyQ86v1oA63SPBHCX3QJhBooEo\"\n",
        "linksDict['Diamond']['image'] = \"ipfs://QmRQF7EzJ3kiD1pNLC5xvWFvWEixrMzHEd3Kx1dtUN8qxb\"\n",
        "linksDict['Diamond']['video'] = \"ipfs://QmYAM75KB5ShAznKKmdNXCBDU8LfBADPRaLKeWgA1VTt1P\"\n",
        "linksDict['Black']['image'] = \"ipfs://QmSQvuxA6ECCDSUPrQh1Dx2ZEP6qrRdtsMNqunNVWWDojX\"\n",
        "linksDict['Black']['video'] = \"ipfs://QmTnmK9dG8SAuCGXttaR7Z87zNohPJfcKbYJZdzQv4GYX8\"\n",
        "linksDict['Gold']['image'] = \"ipfs://QmPXMDd7ALBr7Ax6UaMh2ss5VcBv1oSsdVCyeiuRzUppFo\"\n",
        "linksDict['Gold']['video'] = \"ipfs://QmbpVeroUYUiVuWh6z3bNLhMYhDbsAXeVhgPaC6PA5ENJv\""
      ],
      "metadata": {
        "id": "V40tC2eZDTL0"
      },
      "execution_count": 4,
      "outputs": []
    },
    {
      "cell_type": "markdown",
      "source": [
        "### Creating folders"
      ],
      "metadata": {
        "id": "7s04YZrFecBd"
      }
    },
    {
      "cell_type": "code",
      "source": [
        "Path(\"/content/drive/MyDrive/jsonFilesFirstShuffle\").mkdir(parents=True, exist_ok=True)\n",
        "Path(\"/content/drive/MyDrive/jsonFilesSecondShuffle\").mkdir(parents=True, exist_ok=True)"
      ],
      "metadata": {
        "id": "tKsozfPTYzSI"
      },
      "execution_count": 5,
      "outputs": []
    },
    {
      "cell_type": "markdown",
      "source": [
        "### Declaring Variables"
      ],
      "metadata": {
        "id": "mMBqmOfDehLb"
      }
    },
    {
      "cell_type": "code",
      "source": [
        "label = ['Diamond', 'Black', 'Gold']\n",
        "label_amounts = [10-1,50,495]\n",
        "remainingAmounts = label_amounts.copy()\n",
        "initialArray = []\n",
        "ranges = [[1,50],[105,173]]\n",
        "validRange = []\n",
        "totalNumberOfTokens = sum(label_amounts) + 1\n",
        "tokenList = list(range(1,totalNumberOfTokens + 1))"
      ],
      "metadata": {
        "id": "-DCReSHKWtyZ"
      },
      "execution_count": 6,
      "outputs": []
    },
    {
      "cell_type": "code",
      "source": [
        "index = 0\n",
        "for amount in label_amounts:\n",
        "  for i in range(1,amount+1):\n",
        "    initialArray.append(label[index])\n",
        "  index = index + 1\n",
        "\n",
        "for outerElement in ranges:\n",
        "  for innerElement in range(outerElement[0], outerElement[1]+1):\n",
        "    validRange.append(innerElement)"
      ],
      "metadata": {
        "id": "uH8lB8wMXQyO"
      },
      "execution_count": 7,
      "outputs": []
    },
    {
      "cell_type": "markdown",
      "source": [
        "### Reading file for the type of club pass (first shuffle)"
      ],
      "metadata": {
        "id": "ZZmmfrNmemyy"
      }
    },
    {
      "cell_type": "code",
      "source": [
        "text_file = open(\"/content/drive/MyDrive/shuffledOutput/FanzoneSportsClub.txt\", \"r\")\n",
        "categoryType = text_file.readlines()\n",
        "categoryType = [i.replace('\\n', '') for i in categoryType]\n",
        "text_file.close()"
      ],
      "metadata": {
        "id": "nuYA6Z6-Xbvi"
      },
      "execution_count": 8,
      "outputs": []
    },
    {
      "cell_type": "markdown",
      "source": [
        "### Writing Json files (first shuffle)"
      ],
      "metadata": {
        "id": "hOQJEKSWe09U"
      }
    },
    {
      "cell_type": "code",
      "source": [
        "\n",
        "contractDictionary =  {\n",
        "  \"description\": \"FANZONE.io - Fanzone Sports Club Passes\",\n",
        "\n",
        "  \"external_link\": \"https://fanzone.io\",\n",
        "  \"image\":\"ipfs://QmStQYA5jJkDnQ46mM99wrmq9FYuJibU6GnG49qPuqXBEQ\",\n",
        "  \"animation_url\": \"ipfs://QmbSTe2Cdj41seYdAbdnEyQ86v1oA63SPBHCX3QJhBooEo\",\n",
        "  \"name\": \"Fanzone Sports Club\",\n",
        "  \"seller_fee_basis_points\": 500,\n",
        "  \"fee_recipient\": \"0x23cD124A4787363130D108bBEEb08D7078f7F1A1\"\n",
        "};\n",
        "\n",
        "# Serializing json \n",
        "json_object = json.dumps(contractDictionary, indent = 4)\n",
        "  \n",
        "# Writing to sample.json\n",
        "with open(\"/content/drive/MyDrive/jsonFilesFirstShuffle/0.json\", \"w\") as outfile:\n",
        "    outfile.write(json_object)"
      ],
      "metadata": {
        "id": "kWppUUAEYHPY"
      },
      "execution_count": null,
      "outputs": []
    },
    {
      "cell_type": "code",
      "source": [
        "for index in tokenList:\n",
        "  if index in validRange:\n",
        "    tokenIdDictionary = {\n",
        "      \"description\": \"FANZONE.io - Fanzone Sports Club Pass\",\n",
        "      \"external_url\": \"https://fanzone.io\",\n",
        "      \"image\": linksDict[categoryType[index - 1]]['image'],\n",
        "      \"animation_url\": linksDict[categoryType[index - 1]]['video'],\n",
        "      \"name\": \"Fanzone Sports Club ##\" + str(index),\n",
        "      \"shuffleType\": \"shuffle\",\n",
        "      \"attributes\": [\n",
        "          {\n",
        "              \"trait_type\": \"Category\",\n",
        "              \"value\": categoryType[index - 1],\n",
        "          }\n",
        "      ],\n",
        "    };\n",
        "    if index != 1:\n",
        "      labelIndex = label.index(categoryType[index - 1])\n",
        "      remainingAmounts[labelIndex] = remainingAmounts[labelIndex] - 1\n",
        "  else:\n",
        "    tokenIdDictionary = {\n",
        "      \"description\": \"FANZONE.io - Fanzone Sports Club Pass\",\n",
        "      \"external_url\": \"https://fanzone.io\",\n",
        "      \"image\": linksDict['Default']['image'],\n",
        "      \"animation_url\": linksDict['Default']['video'],\n",
        "      \"name\": \"Fanzone Sports Club ##\" + str(index),\n",
        "      \"shuffleType\": \"noshuffle\",\n",
        "    };\n",
        "\n",
        "  # Serializing json \n",
        "  json_object = json.dumps(tokenIdDictionary, indent = 4)\n",
        "    \n",
        "  # Writing to sample.json\n",
        "  with open(\"/content/drive/MyDrive/jsonFilesFirstShuffle/\" + str(index) +\".json\", \"w\") as outfile:\n",
        "      outfile.write(json_object)"
      ],
      "metadata": {
        "id": "x12xx5aaYS-7"
      },
      "execution_count": null,
      "outputs": []
    },
    {
      "cell_type": "markdown",
      "source": [
        "### Reading file for the type of club pass (second shuffle)"
      ],
      "metadata": {
        "id": "NXRRNcsdex7l"
      }
    },
    {
      "cell_type": "code",
      "source": [
        "text_file = open(\"/content/drive/MyDrive/shuffledOutput/FanzoneSportsClubFinal.txt\", \"r\")\n",
        "categoryTypeFinal = text_file.readlines()\n",
        "categoryTypeFinal = [i.replace('\\n', '') for i in categoryTypeFinal]\n",
        "text_file.close()"
      ],
      "metadata": {
        "id": "XrnGLTRoYbbU"
      },
      "execution_count": 9,
      "outputs": []
    },
    {
      "cell_type": "markdown",
      "source": [
        "### Writing Json files (second shuffle)"
      ],
      "metadata": {
        "id": "Au9uPF9Ze9ys"
      }
    },
    {
      "cell_type": "code",
      "source": [
        "\n",
        "contractDictionary =  {\n",
        "  \"description\": \"FANZONE.io - Fanzone Sports Club Passes\",\n",
        "\n",
        "  \"external_link\": \"https://fanzone.io\",\n",
        "  \"image\":\"ipfs://QmStQYA5jJkDnQ46mM99wrmq9FYuJibU6GnG49qPuqXBEQ\",\n",
        "  \"animation_url\": \"ipfs://QmbSTe2Cdj41seYdAbdnEyQ86v1oA63SPBHCX3QJhBooEo\",\n",
        "  \"name\": \"Fanzone Sports Club\",\n",
        "  \"seller_fee_basis_points\": 500,\n",
        "  \"fee_recipient\": \"0x23cD124A4787363130D108bBEEb08D7078f7F1A1\"\n",
        "};\n",
        "\n",
        "# Serializing json \n",
        "json_object = json.dumps(contractDictionary, indent = 4)\n",
        "  \n",
        "# Writing to sample.json\n",
        "with open(\"/content/drive/MyDrive/jsonFilesSecondShuffle/0.json\", \"w\") as outfile:\n",
        "    outfile.write(json_object)"
      ],
      "metadata": {
        "id": "IBm2N522Ydt7"
      },
      "execution_count": 10,
      "outputs": []
    },
    {
      "cell_type": "code",
      "source": [
        "for index in tokenList:\n",
        "  tokenIdDictionary = {\n",
        "    \"description\": \"FANZONE.io - Fanzone Sports Club Pass\",\n",
        "    \"external_url\": \"https://fanzone.io\",\n",
        "    \"image\": linksDict[categoryTypeFinal[index - 1]]['image'],\n",
        "    \"animation_url\": linksDict[categoryTypeFinal[index - 1]]['video'],\n",
        "    \"name\": \"Fanzone Sports Club ##\" + str(index),\n",
        "    \"shuffleType\": \"shuffle\",\n",
        "    \"attributes\": [\n",
        "        {\n",
        "            \"trait_type\": \"Category\",\n",
        "            \"value\": categoryTypeFinal[index - 1],\n",
        "        }\n",
        "    ],\n",
        "  };\n",
        "\n",
        "  # Serializing json \n",
        "  json_object = json.dumps(tokenIdDictionary, indent = 4)\n",
        "  \n",
        "  # Writing to sample.json\n",
        "  with open(\"/content/drive/MyDrive/jsonFilesSecondShuffle/\" + str(index) +\".json\", \"w\") as outfile:\n",
        "    outfile.write(json_object)"
      ],
      "metadata": {
        "id": "xWJz4er1Yf0z"
      },
      "execution_count": 11,
      "outputs": []
    },
    {
      "cell_type": "markdown",
      "source": [
        "# Test Json file"
      ],
      "metadata": {
        "id": "shyxGFMbpeFx"
      }
    },
    {
      "cell_type": "code",
      "source": [
        "\n",
        "contractDictionary =  {\n",
        "  \"description\": \"FANZONE.io - Fanzone Sports Club Passes\",\n",
        "\n",
        "  \"external_link\": \"https://fanzone.io\",\n",
        "  \"image\":\"ipfs://QmStQYA5jJkDnQ46mM99wrmq9FYuJibU6GnG49qPuqXBEQ\",\n",
        "  \"animation_url\": \"ipfs://QmbSTe2Cdj41seYdAbdnEyQ86v1oA63SPBHCX3QJhBooEo\",\n",
        "  \"name\": \"Fanzone Sports Club\",\n",
        "  \"seller_fee_basis_points\": 500,\n",
        "  \"fee_recipient\": \"0x23cD124A4787363130D108bBEEb08D7078f7F1A1\"\n",
        "};\n",
        "\n",
        "# Serializing json \n",
        "json_object = json.dumps(contractDictionary, indent = 4)\n",
        "  \n",
        "# Writing to sample.json\n",
        "with open(\"/content/drive/MyDrive/jsonFilesNoShuffle/0.json\", \"w\") as outfile:\n",
        "    outfile.write(json_object)\n",
        "\n",
        "\n",
        "\n",
        "Path(\"/content/drive/MyDrive/jsonFilesNoShuffle\").mkdir(parents=True, exist_ok=True)\n",
        "for index in tokenList:\n",
        "  {\n",
        "  \"description\": \"FANZONE.io - Fanzone Sports Club Passes\",\n",
        "\n",
        "  \"external_link\": \"https://fanzone.io\",\n",
        "  \"image\":\"ipfs://QmStQYA5jJkDnQ46mM99wrmq9FYuJibU6GnG49qPuqXBEQ\",\n",
        "  \"animation_url\": \"ipfs://QmbSTe2Cdj41seYdAbdnEyQ86v1oA63SPBHCX3QJhBooEo\",\n",
        "  \"name\": \"Fanzone Sports Club\",\n",
        "  \"seller_fee_basis_points\": 500,\n",
        "  \"fee_recipient\": \"0x23cD124A4787363130D108bBEEb08D7078f7F1A1\"\n",
        "};\n",
        "\n",
        "  # Serializing json \n",
        "  json_object = json.dumps(tokenIdDictionary, indent = 4)\n",
        "  \n",
        "  # Writing to sample.json\n",
        "  with open(\"/content/drive/MyDrive/jsonFilesNoShuffle/\" + str(index) +\".json\", \"w\") as outfile:\n",
        "    outfile.write(json_object)"
      ],
      "metadata": {
        "id": "hDp9ruZGlJMi"
      },
      "execution_count": null,
      "outputs": []
    }
  ]
}