{
  "nbformat": 4,
  "nbformat_minor": 0,
  "metadata": {
    "colab": {
      "name": "RandomSeed-Generator",
      "provenance": [],
      "collapsed_sections": []
    },
    "kernelspec": {
      "name": "python3",
      "display_name": "Python 3"
    },
    "language_info": {
      "name": "python"
    }
  },
  "cells": [
    {
      "cell_type": "markdown",
      "source": [
        "# FANZONE Reveal Script\n",
        "\n",
        "On 29.04.2022 we reveal the first batch of token ID 1-50 for the top user and the bought mints token id 105-17X\n",
        "\n",
        "\n",
        "Input: \n",
        "- Lables and Amount\n",
        "- Ranges and Shuffle-Seeds\n",
        "\n",
        "Output:\n",
        "- Array with the shuffled and partially-reshuffled lables\n",
        "- printed array to file with line break after each element\n",
        "\n",
        "\n",
        "\n",
        "Process:\n",
        "- shuffle full array\n",
        "- slice into: keep 1-50, shuffle 51-104, keep 104-170, shuffle \n",
        "- then shuffle only array areas not used "
      ],
      "metadata": {
        "id": "mYo9FsQsDHzq"
      }
    },
    {
      "cell_type": "code",
      "execution_count": 1,
      "metadata": {
        "id": "E3nbjmHYC1oB"
      },
      "outputs": [],
      "source": [
        "import numpy as np\n",
        "from sklearn.utils import shuffle\n",
        "import json\n",
        "from pathlib import Path"
      ]
    },
    {
      "cell_type": "code",
      "source": [
        "from google.colab import drive\n",
        "drive.mount('/content/drive')"
      ],
      "metadata": {
        "colab": {
          "base_uri": "https://localhost:8080/"
        },
        "id": "-cZDrxzlX3hf",
        "outputId": "10068cd1-1418-443d-8e02-a8a1d327b2a8"
      },
      "execution_count": 2,
      "outputs": [
        {
          "output_type": "stream",
          "name": "stdout",
          "text": [
            "Mounted at /content/drive\n"
          ]
        }
      ]
    },
    {
      "cell_type": "code",
      "source": [
        "linksDict = {}\n",
        "linksDict['Diamond'] = {}\n",
        "linksDict['Black'] = {}\n",
        "linksDict['Gold'] = {}\n",
        "linksDict['Default'] = {}\n",
        "linksDict['Default']['image'] = \"ipfs://QmStQYA5jJkDnQ46mM99wrmq9FYuJibU6GnG49qPuqXBEQ\"\n",
        "linksDict['Default']['video'] = \"ipfs://QmbSTe2Cdj41seYdAbdnEyQ86v1oA63SPBHCX3QJhBooEo\"\n",
        "linksDict['Diamond']['image'] = \"ipfs://QmRQF7EzJ3kiD1pNLC5xvWFvWEixrMzHEd3Kx1dtUN8qxb\"\n",
        "linksDict['Diamond']['video'] = \"ipfs://QmYAM75KB5ShAznKKmdNXCBDU8LfBADPRaLKeWgA1VTt1P\"\n",
        "linksDict['Black']['image'] = \"ipfs://QmSQvuxA6ECCDSUPrQh1Dx2ZEP6qrRdtsMNqunNVWWDojX\"\n",
        "linksDict['Black']['video'] = \"ipfs://QmTnmK9dG8SAuCGXttaR7Z87zNohPJfcKbYJZdzQv4GYX8\"\n",
        "linksDict['Gold']['image'] = \"ipfs://QmPXMDd7ALBr7Ax6UaMh2ss5VcBv1oSsdVCyeiuRzUppFo\"\n",
        "linksDict['Gold']['video'] = \"ipfs://QmbpVeroUYUiVuWh6z3bNLhMYhDbsAXeVhgPaC6PA5ENJv\""
      ],
      "metadata": {
        "id": "0n4_xI7hq0CM"
      },
      "execution_count": null,
      "outputs": []
    },
    {
      "cell_type": "code",
      "source": [
        "label = ['Diamond', 'Black', 'Gold']\n",
        "# label_amounts = [10-1,50,495]\n",
        "label_amounts = [1,3,5]\n",
        "remainingAmounts = label_amounts.copy()\n",
        "initialArray = []\n",
        "shuffle1 = 223\n",
        "shuffle2 = 332\n",
        "#ranges = [[1,50],[105,170]]\n",
        "ranges = [[1,2],[7,9]]\n",
        "validRange = []\n",
        "totalNumberOfTokens = sum(label_amounts) + 1\n",
        "tokenList = list(range(1,totalNumberOfTokens + 1))"
      ],
      "metadata": {
        "id": "E30ZOZg6DVN0"
      },
      "execution_count": null,
      "outputs": []
    },
    {
      "cell_type": "code",
      "source": [
        "index = 0\n",
        "for amount in label_amounts:\n",
        "  for i in range(1,amount+1):\n",
        "    initialArray.append(label[index])\n",
        "  index = index + 1\n",
        "\n",
        "for outerElement in ranges:\n",
        "  for innerElement in range(outerElement[0], outerElement[1]+1):\n",
        "    validRange.append(innerElement)"
      ],
      "metadata": {
        "id": "LE71bG4YDrzM"
      },
      "execution_count": null,
      "outputs": []
    },
    {
      "cell_type": "code",
      "source": [
        "random = shuffle(initialArray, random_state=shuffle1)"
      ],
      "metadata": {
        "id": "N_bF7vNvIpae"
      },
      "execution_count": null,
      "outputs": []
    },
    {
      "cell_type": "code",
      "source": [
        "random.insert(0,'Diamond') # for Top 1"
      ],
      "metadata": {
        "id": "I5iUrupwJL2N"
      },
      "execution_count": null,
      "outputs": []
    },
    {
      "cell_type": "code",
      "source": [
        "Path(\"/content/drive/MyDrive/shuffledOutput\").mkdir(parents=True, exist_ok=True)\n",
        "np.savetxt(\"/content/drive/MyDrive/shuffledOutputFanzoneSportsClub.txt\", random, delimiter=\" \", newline = \"\\n\", fmt=\"%s\")"
      ],
      "metadata": {
        "id": "w_AR5J54J6V6"
      },
      "execution_count": null,
      "outputs": []
    },
    {
      "cell_type": "code",
      "source": [
        ""
      ],
      "metadata": {
        "id": "rgIKzGcUWcEx"
      },
      "execution_count": null,
      "outputs": []
    },
    {
      "cell_type": "code",
      "source": [
        "text_file = open(\"./FanzoneSportsClub.txt\", \"r\")\n",
        "categoryType = text_file.readlines()\n",
        "categoryType = [i.replace('\\n', '') for i in categoryType]\n",
        "text_file.close()"
      ],
      "metadata": {
        "id": "J9a54G1zVDun"
      },
      "execution_count": null,
      "outputs": []
    },
    {
      "cell_type": "code",
      "source": [
        "\n",
        "contractDictionary =  {\n",
        "  \"description\": \"FANZONE.io - Fanzone Sports Club Passes\",\n",
        "\n",
        "  \"external_link\": \"https://fanzone.io\",\n",
        "  \"image\":\"ipfs://QmStQYA5jJkDnQ46mM99wrmq9FYuJibU6GnG49qPuqXBEQ\",\n",
        "  \"animation_url\": \"ipfs://QmbSTe2Cdj41seYdAbdnEyQ86v1oA63SPBHCX3QJhBooEo\",\n",
        "  \"name\": \"Fanzone Sports Club\",\n",
        "  \"seller_fee_basis_points\": 500,\n",
        "  \"fee_recipient\": \"0x23cD124A4787363130D108bBEEb08D7078f7F1A1\"\n",
        "};\n",
        "\n",
        "# Serializing json \n",
        "json_object = json.dumps(contractDictionary, indent = 4)\n",
        "  \n",
        "# Writing to sample.json\n",
        "with open(\"/content/drive/MyDrive/jsonFiles/0.json\", \"w\") as outfile:\n",
        "    outfile.write(json_object)"
      ],
      "metadata": {
        "id": "SCuvAiA2SQOU"
      },
      "execution_count": null,
      "outputs": []
    },
    {
      "cell_type": "markdown",
      "source": [
        "TokenID's JSON files"
      ],
      "metadata": {
        "id": "_F23zlkhUd-N"
      }
    },
    {
      "cell_type": "code",
      "source": [
        "for index in tokenList:\n",
        "  if index in validRange:\n",
        "    tokenIdDictionary = {\n",
        "      \"description\": \"FANZONE.io - Fanzone Sports Club Pass\",\n",
        "      \"external_url\": \"https://fanzone.io\",\n",
        "      \"image\": linksDict[categoryType[index - 1]]['image'],\n",
        "      \"animation_url\": linksDict[categoryType[index - 1]]['video'],\n",
        "      \"name\": \"Fanzone Sports Club ##\" + str(index),\n",
        "      \"shuffleType\": \"shuffle\",\n",
        "      \"attributes\": [\n",
        "          {\n",
        "              \"trait_type\": \"Category\",\n",
        "              \"value\": categoryType[index - 1],\n",
        "          },\n",
        "          {\n",
        "              \"trait_type\": \"shuffleType\",\n",
        "              \"value\": \"shuffle1\",\n",
        "          }\n",
        "      ],\n",
        "    };\n",
        "    if index != 1:\n",
        "      labelIndex = label.index(categoryType[index - 1])\n",
        "      remainingAmounts[labelIndex] = remainingAmounts[labelIndex] - 1\n",
        "  else:\n",
        "    tokenIdDictionary = {\n",
        "      \"description\": \"FANZONE.io - Fanzone Sports Club Pass\",\n",
        "      \"external_url\": \"https://fanzone.io\",\n",
        "      \"image\": linksDict['Default']['image'],\n",
        "      \"animation_url\": linksDict['Default']['video'],\n",
        "      \"name\": \"Fanzone Sports Club ##\" + str(index),\n",
        "      \"shuffleType\": \"noshuffle\",\n",
        "    };\n",
        "\n",
        "  # Serializing json \n",
        "  json_object = json.dumps(tokenIdDictionary, indent = 4)\n",
        "    \n",
        "  # Writing to sample.json\n",
        "  with open(\"/content/drive/MyDrive/jsonFiles/\" + str(index) +\".json\", \"w\") as outfile:\n",
        "      outfile.write(json_object)"
      ],
      "metadata": {
        "id": "wl7_BdvtUiwt"
      },
      "execution_count": null,
      "outputs": []
    },
    {
      "cell_type": "code",
      "source": [
        "secondShuffleArray = []\n",
        "index = 0\n",
        "for amount in remainingAmounts:\n",
        "  for i in range(1,amount+1):\n",
        "    secondShuffleArray.append(label[index])\n",
        "  index = index + 1\n",
        "\n",
        "random2 = shuffle(secondShuffleArray, random_state=shuffle2)"
      ],
      "metadata": {
        "id": "D7t1afoscIbX"
      },
      "execution_count": null,
      "outputs": []
    },
    {
      "cell_type": "markdown",
      "source": [
        "After second shuffle"
      ],
      "metadata": {
        "id": "csxlgd_Q-izX"
      }
    },
    {
      "cell_type": "code",
      "source": [
        "newData = categoryType.copy()\n",
        "counter = 0\n",
        "for index in tokenList:\n",
        "  if index in validRange:\n",
        "    continue\n",
        "  else:\n",
        "    newData[index - 1] = random2[counter]\n",
        "    #print(counter, random2[counter])\n",
        "    counter = counter + 1"
      ],
      "metadata": {
        "colab": {
          "base_uri": "https://localhost:8080/"
        },
        "id": "fGdRda_k-hH0",
        "outputId": "83fc7bfd-e6d8-4bfb-da55-1c8338d2d0ce"
      },
      "execution_count": null,
      "outputs": [
        {
          "output_type": "stream",
          "name": "stdout",
          "text": [
            "0 Black\n",
            "1 Gold\n",
            "2 Black\n",
            "3 Gold\n",
            "4 Diamond\n"
          ]
        }
      ]
    },
    {
      "cell_type": "code",
      "source": [
        "Path(\"/content/drive/MyDrive/shuffledOutput\").mkdir(parents=True, exist_ok=True)\n",
        "np.savetxt(\"/content/drive/MyDrive/shuffledOutput/FanzoneSportsClubFinal.txt\", newData, delimiter=\" \", newline = \"\\n\", fmt=\"%s\")"
      ],
      "metadata": {
        "id": "m2wtSZ6GARR_"
      },
      "execution_count": null,
      "outputs": []
    },
    {
      "cell_type": "code",
      "source": [
        "text_file = open(\"./FanzoneSportsClubFinal.txt\", \"r\")\n",
        "categoryTypeFinal = text_file.readlines()\n",
        "categoryTypeFinal = [i.replace('\\n', '') for i in categoryType]\n",
        "text_file.close()"
      ],
      "metadata": {
        "id": "_SEF6vkGDaHq"
      },
      "execution_count": null,
      "outputs": []
    },
    {
      "cell_type": "code",
      "source": [
        "\n",
        "contractDictionary =  {\n",
        "  \"description\": \"FANZONE.io - Fanzone Sports Club Passes\",\n",
        "\n",
        "  \"external_link\": \"https://fanzone.io\",\n",
        "  \"image\":\"ipfs://QmStQYA5jJkDnQ46mM99wrmq9FYuJibU6GnG49qPuqXBEQ\",\n",
        "  \"animation_url\": \"ipfs://QmbSTe2Cdj41seYdAbdnEyQ86v1oA63SPBHCX3QJhBooEo\",\n",
        "  \"name\": \"Fanzone Sports Club\",\n",
        "  \"seller_fee_basis_points\": 500,\n",
        "  \"fee_recipient\": \"0x23cD124A4787363130D108bBEEb08D7078f7F1A1\"\n",
        "};\n",
        "\n",
        "# Serializing json \n",
        "json_object = json.dumps(contractDictionary, indent = 4)\n",
        "  \n",
        "# Writing to sample.json\n",
        "with open(\"/content/drive/MyDrive/jsonFiles/0.json\", \"w\") as outfile:\n",
        "    outfile.write(json_object)"
      ],
      "metadata": {
        "id": "ruvsIs1sDRXf"
      },
      "execution_count": null,
      "outputs": []
    },
    {
      "cell_type": "code",
      "source": [
        "for index in tokenList:\n",
        "  tokenIdDictionary = {\n",
        "    \"description\": \"FANZONE.io - Fanzone Sports Club Pass\",\n",
        "    \"external_url\": \"https://fanzone.io\",\n",
        "    \"image\": linksDict[categoryTypeFinal[index - 1]]['image'],\n",
        "    \"animation_url\": linksDict[categoryTypeFinal[index - 1]]['video'],\n",
        "    \"name\": \"Fanzone Sports Club ##\" + str(index),\n",
        "    \"shuffleType\": \"shuffle\",\n",
        "    \"attributes\": [\n",
        "        {\n",
        "            \"trait_type\": \"Category\",\n",
        "            \"value\": categoryTypeFinal[index - 1],\n",
        "        },\n",
        "        {\n",
        "            \"trait_type\": \"shuffleType\",\n",
        "            \"value\": \"shuffle2\",\n",
        "        }\n",
        "    ],\n",
        "  };\n",
        "\n",
        "# Serializing json \n",
        "json_object = json.dumps(tokenIdDictionary, indent = 4)\n",
        "  \n",
        "# Writing to sample.json\n",
        "with open(\"/content/drive/MyDrive/jsonFiles/\" + str(index) +\".json\", \"w\") as outfile:\n",
        "    outfile.write(json_object)"
      ],
      "metadata": {
        "id": "Rs3BGPKPDWvg"
      },
      "execution_count": null,
      "outputs": []
    }
  ]
}