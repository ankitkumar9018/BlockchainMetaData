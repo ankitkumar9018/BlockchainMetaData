{
  "nbformat": 4,
  "nbformat_minor": 0,
  "metadata": {
    "colab": {
      "name": "RandomSeed-Generator",
      "provenance": [],
      "collapsed_sections": [],
      "include_colab_link": true
    },
    "kernelspec": {
      "name": "python3",
      "display_name": "Python 3"
    },
    "language_info": {
      "name": "python"
    }
  },
  "cells": [
    {
      "cell_type": "markdown",
      "metadata": {
        "id": "view-in-github",
        "colab_type": "text"
      },
      "source": [
        "<a href=\"https://colab.research.google.com/github/ankitkumar9018/BlockchainMetaData/blob/main/RandomSeed_Generator.ipynb\" target=\"_parent\"><img src=\"https://colab.research.google.com/assets/colab-badge.svg\" alt=\"Open In Colab\"/></a>"
      ]
    },
    {
      "cell_type": "markdown",
      "source": [
        "# FANZONE Reveal Script\n",
        "\n",
        "On 29.04.2022 we reveal the first batch of token ID 1-50 for the top user and the bought mints token id 105-17X\n",
        "\n",
        "\n",
        "Input: \n",
        "- Lables and Amount\n",
        "- Ranges and Shuffle-Seeds\n",
        "\n",
        "Output:\n",
        "- Array with the shuffled and partially-reshuffled lables\n",
        "- printed array to file with line break after each element\n",
        "\n",
        "\n",
        "\n",
        "Process:\n",
        "- shuffle full array\n",
        "- slice into: keep 1-50, shuffle 51-104, keep 104-170, shuffle \n",
        "- then shuffle only array areas not used "
      ],
      "metadata": {
        "id": "mYo9FsQsDHzq"
      }
    },
    {
      "cell_type": "markdown",
      "source": [
        "## Importing Libraries"
      ],
      "metadata": {
        "id": "RprKe4wGbhh4"
      }
    },
    {
      "cell_type": "code",
      "execution_count": 1,
      "metadata": {
        "id": "E3nbjmHYC1oB"
      },
      "outputs": [],
      "source": [
        "import numpy as np\n",
        "from sklearn.utils import shuffle\n",
        "from pathlib import Path"
      ]
    },
    {
      "cell_type": "markdown",
      "source": [
        "## Connecting google drive"
      ],
      "metadata": {
        "id": "1VgMaSHuba1w"
      }
    },
    {
      "cell_type": "code",
      "source": [
        "from google.colab import drive\n",
        "drive.mount('/content/drive')"
      ],
      "metadata": {
        "colab": {
          "base_uri": "https://localhost:8080/"
        },
        "id": "-cZDrxzlX3hf",
        "outputId": "6d5308bf-6852-4957-a67f-275139f09c48"
      },
      "execution_count": 2,
      "outputs": [
        {
          "output_type": "stream",
          "name": "stdout",
          "text": [
            "Mounted at /content/drive\n"
          ]
        }
      ]
    },
    {
      "cell_type": "markdown",
      "source": [
        "## Declaring variables"
      ],
      "metadata": {
        "id": "1fY75QhgbmaY"
      }
    },
    {
      "cell_type": "code",
      "source": [
        "label = ['Diamond', 'Black', 'Gold']\n",
        "label_amounts = [10-1,50,495]\n",
        "remainingAmounts = label_amounts.copy()\n",
        "initialArray = []\n",
        "shuffle1 = 7308621  # today\n",
        "shuffle2 = 1013555  # later\n",
        "ranges = [[1,50],[105,173]]\n",
        "validRange = []\n",
        "totalNumberOfTokens = sum(label_amounts) + 1\n",
        "tokenList = list(range(1,totalNumberOfTokens + 1))\n",
        "secondShuffleArray = []"
      ],
      "metadata": {
        "id": "E30ZOZg6DVN0"
      },
      "execution_count": 4,
      "outputs": []
    },
    {
      "cell_type": "markdown",
      "source": [
        "# First Shuffle Section"
      ],
      "metadata": {
        "id": "sBzHxKv7cOcl"
      }
    },
    {
      "cell_type": "code",
      "source": [
        "index = 0\n",
        "for amount in label_amounts:\n",
        "  for i in range(1,amount+1):\n",
        "    initialArray.append(label[index])\n",
        "  index = index + 1\n",
        "\n",
        "for outerElement in ranges:\n",
        "  for innerElement in range(outerElement[0], outerElement[1]+1):\n",
        "    validRange.append(innerElement)"
      ],
      "metadata": {
        "id": "LE71bG4YDrzM"
      },
      "execution_count": 5,
      "outputs": []
    },
    {
      "cell_type": "markdown",
      "source": [
        "## First shuffle"
      ],
      "metadata": {
        "id": "giDJyQbcbzF0"
      }
    },
    {
      "cell_type": "code",
      "source": [
        "random = shuffle(initialArray, random_state=shuffle1)"
      ],
      "metadata": {
        "id": "N_bF7vNvIpae"
      },
      "execution_count": 6,
      "outputs": []
    },
    {
      "cell_type": "code",
      "source": [
        "random.insert(0,'Diamond') # for Top 1"
      ],
      "metadata": {
        "id": "I5iUrupwJL2N"
      },
      "execution_count": 7,
      "outputs": []
    },
    {
      "cell_type": "markdown",
      "source": [
        "## Writing the first shuffle file"
      ],
      "metadata": {
        "id": "nHKRAsseb2zD"
      }
    },
    {
      "cell_type": "code",
      "source": [
        "Path(\"/content/drive/MyDrive/shuffledOutput\").mkdir(parents=True, exist_ok=True)\n",
        "np.savetxt(\"/content/drive/MyDrive/shuffledOutput/FanzoneSportsClub.txt\", random, delimiter=\" \", newline = \"\\n\", fmt=\"%s\")"
      ],
      "metadata": {
        "id": "w_AR5J54J6V6"
      },
      "execution_count": null,
      "outputs": []
    },
    {
      "cell_type": "markdown",
      "source": [
        "# Second Shuffle Section"
      ],
      "metadata": {
        "id": "TpF5yVnEcBqV"
      }
    },
    {
      "cell_type": "code",
      "source": [
        "text_file = open(\"/content/drive/MyDrive/shuffledOutput/FanzoneSportsClub.txt\", \"r\")\n",
        "categoryType = text_file.readlines()\n",
        "categoryType = [i.replace('\\n', '') for i in categoryType]\n",
        "text_file.close()"
      ],
      "metadata": {
        "id": "2zpQ97iUaIQq"
      },
      "execution_count": 8,
      "outputs": []
    },
    {
      "cell_type": "code",
      "source": [
        "for index in tokenList:\n",
        "  if index in validRange:\n",
        "    if index != 1:\n",
        "      labelIndex = label.index(categoryType[index - 1])\n",
        "      remainingAmounts[labelIndex] = remainingAmounts[labelIndex] - 1"
      ],
      "metadata": {
        "id": "rgIKzGcUWcEx"
      },
      "execution_count": 9,
      "outputs": []
    },
    {
      "cell_type": "markdown",
      "source": [
        "### Second shuffle"
      ],
      "metadata": {
        "id": "YlemkJxNcZEe"
      }
    },
    {
      "cell_type": "code",
      "source": [
        "index = 0\n",
        "for amount in remainingAmounts:\n",
        "  for i in range(1,amount+1):\n",
        "    secondShuffleArray.append(label[index])\n",
        "  index = index + 1\n",
        "\n",
        "random2 = shuffle(secondShuffleArray, random_state=shuffle2)"
      ],
      "metadata": {
        "id": "D7t1afoscIbX"
      },
      "execution_count": 10,
      "outputs": []
    },
    {
      "cell_type": "markdown",
      "source": [
        "After second shuffle"
      ],
      "metadata": {
        "id": "csxlgd_Q-izX"
      }
    },
    {
      "cell_type": "code",
      "source": [
        "newData = categoryType.copy()\n",
        "counter = 0\n",
        "for index in tokenList:\n",
        "  if index in validRange:\n",
        "    continue\n",
        "  else:\n",
        "    newData[index - 1] = random2[counter]\n",
        "    counter = counter + 1"
      ],
      "metadata": {
        "id": "fGdRda_k-hH0"
      },
      "execution_count": 11,
      "outputs": []
    },
    {
      "cell_type": "markdown",
      "source": [
        "Writing the second shuffle file"
      ],
      "metadata": {
        "id": "1DlDC_xLci8g"
      }
    },
    {
      "cell_type": "code",
      "source": [
        "Path(\"/content/drive/MyDrive/shuffledOutput\").mkdir(parents=True, exist_ok=True)\n",
        "np.savetxt(\"/content/drive/MyDrive/shuffledOutput/FanzoneSportsClubFinal.txt\", newData, delimiter=\" \", newline = \"\\n\", fmt=\"%s\")"
      ],
      "metadata": {
        "id": "m2wtSZ6GARR_"
      },
      "execution_count": 12,
      "outputs": []
    },
    {
      "cell_type": "code",
      "source": [
        ""
      ],
      "metadata": {
        "id": "rTJzafKznLPL"
      },
      "execution_count": null,
      "outputs": []
    }
  ]
}